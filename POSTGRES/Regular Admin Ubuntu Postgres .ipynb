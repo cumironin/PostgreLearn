{
 "cells": [
  {
   "cell_type": "markdown",
   "id": "8cb7ba7c",
   "metadata": {},
   "source": [
    "Use this to access postgres & accessing"
   ]
  },
  {
   "cell_type": "code",
   "execution_count": null,
   "id": "06b4fe0d",
   "metadata": {},
   "outputs": [],
   "source": [
    "sudo -i -u postgres"
   ]
  },
  {
   "cell_type": "code",
   "execution_count": null,
   "id": "4d653ac2",
   "metadata": {},
   "outputs": [],
   "source": [
    "Use \\l or \\l+ in psql to show all databases in the current PostgreSQL server."
   ]
  },
  {
   "cell_type": "code",
   "execution_count": null,
   "id": "cf3ac2aa",
   "metadata": {},
   "outputs": [],
   "source": [
    "Use \\q to quit"
   ]
  },
  {
   "cell_type": "code",
   "execution_count": null,
   "id": "46517d03",
   "metadata": {},
   "outputs": [],
   "source": [
    "Use the SELECT statement to query data from the db with table."
   ]
  },
  {
   "cell_type": "code",
   "execution_count": null,
   "id": "8e6d7563",
   "metadata": {},
   "outputs": [],
   "source": [
    "Use \\dt or \\d to show all tables"
   ]
  },
  {
   "cell_type": "code",
   "execution_count": null,
   "id": "f3e98a82",
   "metadata": {},
   "outputs": [],
   "source": [
    "#Using this for add new column when there are already existing table & column\n",
    "\n",
    "ALTER TABLE users ADD COLUMN username character varying(255) NOT NULL DEFAULT 'foo';"
   ]
  }
 ],
 "metadata": {
  "kernelspec": {
   "display_name": "Python 3 (ipykernel)",
   "language": "python",
   "name": "python3"
  },
  "language_info": {
   "codemirror_mode": {
    "name": "ipython",
    "version": 3
   },
   "file_extension": ".py",
   "mimetype": "text/x-python",
   "name": "python",
   "nbconvert_exporter": "python",
   "pygments_lexer": "ipython3",
   "version": "3.10.8"
  }
 },
 "nbformat": 4,
 "nbformat_minor": 5
}
