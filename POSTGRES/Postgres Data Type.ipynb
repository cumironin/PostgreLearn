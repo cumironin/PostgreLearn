{
 "cells": [
  {
   "cell_type": "code",
   "execution_count": null,
   "id": "a8455a55",
   "metadata": {},
   "outputs": [],
   "source": [
    "# Postgres support single boolean data type : TRUE, FALSE & NULL\n",
    "CREATE TABLE table_boolean(\n",
    "\tproduct_id SERIAL PRIMARY KEY,\n",
    "\tis_available BOOLEAN NOT NULL\n",
    "\n",
    ")\n",
    "\n",
    "# Valid literal for boolean type in postgres\n",
    "# TRUE : TRUE, 'true', 't', 'y', 'yes', '1'\n",
    "# FALSE : FALSE, false', 'f', 'n', 'no, '0'\n",
    "INSERT INTO table_boolean (is_available) VALUES (TRUE);\n",
    "\n",
    "# Query gini juga bisa karena valid literal di postgres\n",
    "SELECT * FROM table_boolean \n",
    "WHERE is_available = 'f'\n",
    "\n",
    "\n",
    "\n",
    "# Character Data Types\n",
    "# Character string are general purpose types suitable for : TEXT, NUMBER, SYMBOL\n",
    "# --- THREE Main Character Types ---\n",
    "# 1. CHARACTER (n), CHAR(n)                fixed-length, blank padded\n",
    "# 2. CHARACTER VARYING(n), VARCHAR (n)     variable-length with length limit\n",
    "# 3. TEXT, VARCHAR                         variable unlimited length\n",
    "# note : (n) is character length column hold, if no value specified than the default is (1)\n",
    "#        if the maximum character are all spaces, postgres truncate all spaces to the maximum length (n) and store the character version\n",
    "\n",
    "\n"
   ]
  }
 ],
 "metadata": {
  "kernelspec": {
   "display_name": "Python 3 (ipykernel)",
   "language": "python",
   "name": "python3"
  },
  "language_info": {
   "codemirror_mode": {
    "name": "ipython",
    "version": 3
   },
   "file_extension": ".py",
   "mimetype": "text/x-python",
   "name": "python",
   "nbconvert_exporter": "python",
   "pygments_lexer": "ipython3",
   "version": "3.10.8"
  }
 },
 "nbformat": 4,
 "nbformat_minor": 5
}
